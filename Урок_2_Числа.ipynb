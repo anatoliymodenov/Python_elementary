{
  "nbformat": 4,
  "nbformat_minor": 0,
  "metadata": {
    "colab": {
      "provenance": [],
      "toc_visible": true
    },
    "kernelspec": {
      "name": "python3",
      "display_name": "Python 3"
    },
    "language_info": {
      "name": "python"
    }
  },
  "cells": [
    {
      "cell_type": "markdown",
      "source": [
        "# 1. Числа"
      ],
      "metadata": {
        "id": "Vc2LyNOzr6p1"
      }
    },
    {
      "cell_type": "markdown",
      "source": [
        "## 1.1 Целые числа"
      ],
      "metadata": {
        "id": "sO4Lc5ImsCHN"
      }
    },
    {
      "cell_type": "markdown",
      "source": [
        "Создадим переменную"
      ],
      "metadata": {
        "id": "PvJnbIk2sEKi"
      }
    },
    {
      "cell_type": "code",
      "source": [
        "a = 1"
      ],
      "metadata": {
        "id": "lu7EGXAnsOjk"
      },
      "execution_count": null,
      "outputs": []
    },
    {
      "cell_type": "code",
      "source": [
        "a"
      ],
      "metadata": {
        "colab": {
          "base_uri": "https://localhost:8080/"
        },
        "id": "3cUEEYRmwpyf",
        "outputId": "03c74c7c-ec40-4c50-f5f7-c5875531df93"
      },
      "execution_count": null,
      "outputs": [
        {
          "output_type": "execute_result",
          "data": {
            "text/plain": [
              "1"
            ]
          },
          "metadata": {},
          "execution_count": 4
        }
      ]
    },
    {
      "cell_type": "markdown",
      "source": [
        "Для удобного разделения разрядов можно использовать нижнее подчеркивание"
      ],
      "metadata": {
        "id": "rZ_vLH0qsOnJ"
      }
    },
    {
      "cell_type": "code",
      "source": [
        "b = 1_000_000_000"
      ],
      "metadata": {
        "id": "ouOXA29dsSRF"
      },
      "execution_count": null,
      "outputs": []
    },
    {
      "cell_type": "code",
      "source": [
        "b"
      ],
      "metadata": {
        "colab": {
          "base_uri": "https://localhost:8080/"
        },
        "id": "Xcc1h6oHxBbs",
        "outputId": "63f751de-18d8-44ed-f7d6-dead2e50ddd0"
      },
      "execution_count": null,
      "outputs": [
        {
          "output_type": "execute_result",
          "data": {
            "text/plain": [
              "1000000000"
            ]
          },
          "metadata": {},
          "execution_count": 8
        }
      ]
    },
    {
      "cell_type": "markdown",
      "source": [
        "Проверим тип данных"
      ],
      "metadata": {
        "id": "YUzjugcRsSWu"
      }
    },
    {
      "cell_type": "code",
      "source": [
        "type(b)"
      ],
      "metadata": {
        "colab": {
          "base_uri": "https://localhost:8080/"
        },
        "id": "x7ICUARYsUf_",
        "outputId": "3953c0ce-9015-4dfc-8912-e29ce3494e58"
      },
      "execution_count": null,
      "outputs": [
        {
          "output_type": "execute_result",
          "data": {
            "text/plain": [
              "int"
            ]
          },
          "metadata": {},
          "execution_count": 9
        }
      ]
    },
    {
      "cell_type": "markdown",
      "source": [
        "Операции над целыми числами"
      ],
      "metadata": {
        "id": "vBXeCN1UsUkf"
      }
    },
    {
      "cell_type": "code",
      "source": [
        "c = 100"
      ],
      "metadata": {
        "id": "EY3kmlNhsdJm"
      },
      "execution_count": null,
      "outputs": []
    },
    {
      "cell_type": "code",
      "source": [
        "c"
      ],
      "metadata": {
        "colab": {
          "base_uri": "https://localhost:8080/"
        },
        "id": "qLd1dQl7xeBq",
        "outputId": "3e2aeabc-4871-4412-ea1e-e8d834db652d"
      },
      "execution_count": null,
      "outputs": [
        {
          "output_type": "execute_result",
          "data": {
            "text/plain": [
              "100"
            ]
          },
          "metadata": {},
          "execution_count": 11
        }
      ]
    },
    {
      "cell_type": "code",
      "source": [
        "c + 50"
      ],
      "metadata": {
        "colab": {
          "base_uri": "https://localhost:8080/"
        },
        "id": "XwSadFMxxfcI",
        "outputId": "d40bf25e-b83a-4925-be43-fa46a73e2be5"
      },
      "execution_count": null,
      "outputs": [
        {
          "output_type": "execute_result",
          "data": {
            "text/plain": [
              "150"
            ]
          },
          "metadata": {},
          "execution_count": 12
        }
      ]
    },
    {
      "cell_type": "code",
      "source": [
        "c - 50"
      ],
      "metadata": {
        "colab": {
          "base_uri": "https://localhost:8080/"
        },
        "id": "vhe5Yf3txkKZ",
        "outputId": "24a8e40d-095b-4d0f-b0d8-269de7ebe320"
      },
      "execution_count": null,
      "outputs": [
        {
          "output_type": "execute_result",
          "data": {
            "text/plain": [
              "50"
            ]
          },
          "metadata": {},
          "execution_count": 13
        }
      ]
    },
    {
      "cell_type": "code",
      "source": [
        "c * 2"
      ],
      "metadata": {
        "colab": {
          "base_uri": "https://localhost:8080/"
        },
        "id": "hv60iQToxomA",
        "outputId": "bf28b3f9-0cb1-4f43-85ed-a72509fc332e"
      },
      "execution_count": null,
      "outputs": [
        {
          "output_type": "execute_result",
          "data": {
            "text/plain": [
              "200"
            ]
          },
          "metadata": {},
          "execution_count": 14
        }
      ]
    },
    {
      "cell_type": "code",
      "source": [
        "type(c / 2)"
      ],
      "metadata": {
        "colab": {
          "base_uri": "https://localhost:8080/"
        },
        "id": "fGa2D0m4xrSf",
        "outputId": "c8f492fe-21b3-4504-d93d-f4b9f8fbb4df"
      },
      "execution_count": null,
      "outputs": [
        {
          "output_type": "execute_result",
          "data": {
            "text/plain": [
              "float"
            ]
          },
          "metadata": {},
          "execution_count": 16
        }
      ]
    },
    {
      "cell_type": "code",
      "source": [
        "c ** 2"
      ],
      "metadata": {
        "colab": {
          "base_uri": "https://localhost:8080/"
        },
        "id": "Tm_HFaSGx0KI",
        "outputId": "099d4487-ba20-406c-a500-9230d8480221"
      },
      "execution_count": null,
      "outputs": [
        {
          "output_type": "execute_result",
          "data": {
            "text/plain": [
              "10000"
            ]
          },
          "metadata": {},
          "execution_count": 17
        }
      ]
    },
    {
      "cell_type": "markdown",
      "source": [
        "Деление, целочисленное деление, остаток от деления - разные вещи!"
      ],
      "metadata": {
        "id": "_LEmaqBIsdUH"
      }
    },
    {
      "cell_type": "code",
      "source": [
        "c / 7, c // 7, c % 7"
      ],
      "metadata": {
        "colab": {
          "base_uri": "https://localhost:8080/"
        },
        "id": "SaKiwXnXsmUu",
        "outputId": "46fa32cd-1970-4275-edc5-b97ffa2a1880"
      },
      "execution_count": null,
      "outputs": [
        {
          "output_type": "execute_result",
          "data": {
            "text/plain": [
              "(14.285714285714286, 14, 2)"
            ]
          },
          "metadata": {},
          "execution_count": 19
        }
      ]
    },
    {
      "cell_type": "code",
      "source": [
        "7 * 14 + 2"
      ],
      "metadata": {
        "colab": {
          "base_uri": "https://localhost:8080/"
        },
        "id": "16wIFVXXyRlB",
        "outputId": "2ee83638-b4ed-416f-cff7-91a017577a9e"
      },
      "execution_count": null,
      "outputs": [
        {
          "output_type": "execute_result",
          "data": {
            "text/plain": [
              "100"
            ]
          },
          "metadata": {},
          "execution_count": 20
        }
      ]
    },
    {
      "cell_type": "code",
      "source": [
        "7 * (c // 7) + (c % 7)"
      ],
      "metadata": {
        "colab": {
          "base_uri": "https://localhost:8080/"
        },
        "id": "N19Ix7H7yU1E",
        "outputId": "2dec1a41-b52c-45cc-a927-a3c8b7cf580b"
      },
      "execution_count": null,
      "outputs": [
        {
          "output_type": "execute_result",
          "data": {
            "text/plain": [
              "100"
            ]
          },
          "metadata": {},
          "execution_count": 21
        }
      ]
    },
    {
      "cell_type": "markdown",
      "source": [
        "Порядок операций имеет значение!"
      ],
      "metadata": {
        "id": "62MfCyXQsmaa"
      }
    },
    {
      "cell_type": "code",
      "source": [
        "d = -7"
      ],
      "metadata": {
        "id": "4p6AACZnswL4"
      },
      "execution_count": null,
      "outputs": []
    },
    {
      "cell_type": "code",
      "source": [
        "d"
      ],
      "metadata": {
        "colab": {
          "base_uri": "https://localhost:8080/"
        },
        "id": "8XKzfxxeyoV8",
        "outputId": "6876447c-633f-4ee5-dc27-03b435c86cb6"
      },
      "execution_count": null,
      "outputs": [
        {
          "output_type": "execute_result",
          "data": {
            "text/plain": [
              "-7"
            ]
          },
          "metadata": {},
          "execution_count": 23
        }
      ]
    },
    {
      "cell_type": "code",
      "source": [
        "(-7+5**2)*10 + 20"
      ],
      "metadata": {
        "colab": {
          "base_uri": "https://localhost:8080/"
        },
        "id": "6jmAkCuYyq57",
        "outputId": "51f6aed0-e322-4116-c75f-cfcd5f8b9c44"
      },
      "execution_count": null,
      "outputs": [
        {
          "output_type": "execute_result",
          "data": {
            "text/plain": [
              "200"
            ]
          },
          "metadata": {},
          "execution_count": 26
        }
      ]
    },
    {
      "cell_type": "markdown",
      "source": [
        "## 1.2 Числа с плавающей точкой\n"
      ],
      "metadata": {
        "id": "kZWmL6A8swP4"
      }
    },
    {
      "cell_type": "code",
      "source": [
        "e = 3.1415"
      ],
      "metadata": {
        "id": "pmBb_6Nms47d"
      },
      "execution_count": null,
      "outputs": []
    },
    {
      "cell_type": "code",
      "source": [
        "type(e)"
      ],
      "metadata": {
        "colab": {
          "base_uri": "https://localhost:8080/"
        },
        "id": "Fxca7jfszF7D",
        "outputId": "d8eb43b9-0d2f-414a-e504-1e43e74d70a7"
      },
      "execution_count": null,
      "outputs": [
        {
          "output_type": "execute_result",
          "data": {
            "text/plain": [
              "float"
            ]
          },
          "metadata": {},
          "execution_count": 29
        }
      ]
    },
    {
      "cell_type": "markdown",
      "source": [
        "Давайте посмотрим на научную запись числа"
      ],
      "metadata": {
        "id": "cp5BMcXetBq9"
      }
    },
    {
      "cell_type": "code",
      "source": [
        "7e-5\n",
        "\n",
        "7*10^(-5)"
      ],
      "metadata": {
        "colab": {
          "base_uri": "https://localhost:8080/"
        },
        "id": "TOW0UnbutEnw",
        "outputId": "9c083209-6e90-40f7-ffce-a1dff8156d12"
      },
      "execution_count": null,
      "outputs": [
        {
          "output_type": "execute_result",
          "data": {
            "text/plain": [
              "7e-05"
            ]
          },
          "metadata": {},
          "execution_count": 34
        }
      ]
    },
    {
      "cell_type": "code",
      "source": [
        "10 ** (-5)"
      ],
      "metadata": {
        "colab": {
          "base_uri": "https://localhost:8080/"
        },
        "id": "j3ZBeLAq0CHe",
        "outputId": "9386fce0-5992-455b-acde-a3864b736963"
      },
      "execution_count": null,
      "outputs": [
        {
          "output_type": "execute_result",
          "data": {
            "text/plain": [
              "1e-05"
            ]
          },
          "metadata": {},
          "execution_count": 35
        }
      ]
    },
    {
      "cell_type": "code",
      "source": [
        "0.00007"
      ],
      "metadata": {
        "colab": {
          "base_uri": "https://localhost:8080/"
        },
        "id": "SpQ5MKyu0KVb",
        "outputId": "dc9bde03-846c-4efd-9047-52dc196ca51d"
      },
      "execution_count": null,
      "outputs": [
        {
          "output_type": "execute_result",
          "data": {
            "text/plain": [
              "7e-05"
            ]
          },
          "metadata": {},
          "execution_count": 36
        }
      ]
    },
    {
      "cell_type": "markdown",
      "source": [
        "Числа с плавающей точкой можно округлять"
      ],
      "metadata": {
        "id": "It9cCWeStEtG"
      }
    },
    {
      "cell_type": "code",
      "source": [
        "round(3.1), round(3.5), round(3.8)"
      ],
      "metadata": {
        "colab": {
          "base_uri": "https://localhost:8080/"
        },
        "id": "yw7RwHqmtJCy",
        "outputId": "fc747b66-d709-4a41-c722-0566ea9e9287"
      },
      "execution_count": null,
      "outputs": [
        {
          "output_type": "execute_result",
          "data": {
            "text/plain": [
              "(3, 4, 4)"
            ]
          },
          "metadata": {},
          "execution_count": 30
        }
      ]
    },
    {
      "cell_type": "code",
      "source": [
        "from math import ceil, floor"
      ],
      "metadata": {
        "id": "5UJLhLXzzhg0"
      },
      "execution_count": null,
      "outputs": []
    },
    {
      "cell_type": "code",
      "source": [
        "ceil(3.1), floor(3.8)"
      ],
      "metadata": {
        "colab": {
          "base_uri": "https://localhost:8080/"
        },
        "id": "itkUxhwOznFg",
        "outputId": "2661d03e-d298-4f8f-ace7-340945b96fb1"
      },
      "execution_count": null,
      "outputs": [
        {
          "output_type": "execute_result",
          "data": {
            "text/plain": [
              "(4, 3)"
            ]
          },
          "metadata": {},
          "execution_count": 32
        }
      ]
    },
    {
      "cell_type": "code",
      "source": [
        "round(3.1415, 2)"
      ],
      "metadata": {
        "colab": {
          "base_uri": "https://localhost:8080/"
        },
        "id": "XknBYsrbzy1L",
        "outputId": "7cbd0e18-2bbb-4508-8d1f-3758c99e49ff"
      },
      "execution_count": null,
      "outputs": [
        {
          "output_type": "execute_result",
          "data": {
            "text/plain": [
              "3.14"
            ]
          },
          "metadata": {},
          "execution_count": 33
        }
      ]
    },
    {
      "cell_type": "markdown",
      "source": [
        "## 1.3 Комплексные числа"
      ],
      "metadata": {
        "id": "vaXBi3_mtjE6"
      }
    },
    {
      "cell_type": "markdown",
      "source": [
        "`real` - действительная часть, `imag` - мнимая часть"
      ],
      "metadata": {
        "id": "yM3BYLJOtUwf"
      }
    },
    {
      "cell_type": "code",
      "source": [
        "a1 = 1 + 0.5j"
      ],
      "metadata": {
        "id": "iJcjsTVNtYBm"
      },
      "execution_count": null,
      "outputs": []
    },
    {
      "cell_type": "code",
      "source": [
        "a1"
      ],
      "metadata": {
        "colab": {
          "base_uri": "https://localhost:8080/"
        },
        "id": "BIOsYXFM0i11",
        "outputId": "eaef43f7-d359-41cf-dcfd-c63223fd6b3a"
      },
      "execution_count": null,
      "outputs": [
        {
          "output_type": "execute_result",
          "data": {
            "text/plain": [
              "(1+1j)"
            ]
          },
          "metadata": {},
          "execution_count": 38
        }
      ]
    },
    {
      "cell_type": "code",
      "source": [
        "type(a1)"
      ],
      "metadata": {
        "colab": {
          "base_uri": "https://localhost:8080/"
        },
        "id": "2w2F5pH30k7j",
        "outputId": "ae76c8df-1e86-426f-bb82-ee841b2ecc04"
      },
      "execution_count": null,
      "outputs": [
        {
          "output_type": "execute_result",
          "data": {
            "text/plain": [
              "complex"
            ]
          },
          "metadata": {},
          "execution_count": 39
        }
      ]
    },
    {
      "cell_type": "code",
      "source": [
        "a1.real, a1.imag"
      ],
      "metadata": {
        "colab": {
          "base_uri": "https://localhost:8080/"
        },
        "id": "BwlhHa890q1r",
        "outputId": "4dcd07f3-e60b-4095-ba4d-bd2ab74e8986"
      },
      "execution_count": null,
      "outputs": [
        {
          "output_type": "execute_result",
          "data": {
            "text/plain": [
              "(1.0, 0.5)"
            ]
          },
          "metadata": {},
          "execution_count": 42
        }
      ]
    },
    {
      "cell_type": "markdown",
      "source": [
        "`conjugate` - комплексное сопряжение"
      ],
      "metadata": {
        "id": "gsTgBkdntYJV"
      }
    },
    {
      "cell_type": "code",
      "source": [
        "a1, a1.conjugate()"
      ],
      "metadata": {
        "colab": {
          "base_uri": "https://localhost:8080/"
        },
        "id": "0CA39f8RtcCc",
        "outputId": "cdafb271-51f4-47c6-d12a-647abd82f16b"
      },
      "execution_count": null,
      "outputs": [
        {
          "output_type": "execute_result",
          "data": {
            "text/plain": [
              "((1+0.5j), (1-0.5j))"
            ]
          },
          "metadata": {},
          "execution_count": 43
        }
      ]
    },
    {
      "cell_type": "markdown",
      "source": [
        "## 1.4 Конвертация типов"
      ],
      "metadata": {
        "id": "Iyx0O8RvtcG6"
      }
    },
    {
      "cell_type": "code",
      "source": [
        "a = 1"
      ],
      "metadata": {
        "id": "h9l3WkwAtnlP"
      },
      "execution_count": null,
      "outputs": []
    },
    {
      "cell_type": "code",
      "source": [
        "float(a)"
      ],
      "metadata": {
        "colab": {
          "base_uri": "https://localhost:8080/"
        },
        "id": "fP9-hqB01LK7",
        "outputId": "a53001d4-110a-458d-e0e5-3f6fa68e3721"
      },
      "execution_count": null,
      "outputs": [
        {
          "output_type": "execute_result",
          "data": {
            "text/plain": [
              "1.0"
            ]
          },
          "metadata": {},
          "execution_count": 45
        }
      ]
    },
    {
      "cell_type": "code",
      "source": [
        "b = 3.1415\n",
        "int(b)"
      ],
      "metadata": {
        "colab": {
          "base_uri": "https://localhost:8080/"
        },
        "id": "s2g8otsW1SJl",
        "outputId": "d37975e3-8ab1-4e46-c8da-1090983f1d97"
      },
      "execution_count": null,
      "outputs": [
        {
          "output_type": "execute_result",
          "data": {
            "text/plain": [
              "3"
            ]
          },
          "metadata": {},
          "execution_count": 48
        }
      ]
    },
    {
      "cell_type": "code",
      "source": [
        "complex(a)"
      ],
      "metadata": {
        "colab": {
          "base_uri": "https://localhost:8080/"
        },
        "id": "9UPJEWon1cWW",
        "outputId": "81063536-64ab-4311-ea0f-4f97f1c68a0c"
      },
      "execution_count": null,
      "outputs": [
        {
          "output_type": "execute_result",
          "data": {
            "text/plain": [
              "(1+0j)"
            ]
          },
          "metadata": {},
          "execution_count": 49
        }
      ]
    },
    {
      "cell_type": "code",
      "source": [
        "int('5') ** 2"
      ],
      "metadata": {
        "colab": {
          "base_uri": "https://localhost:8080/"
        },
        "id": "Lxxex0o_1njp",
        "outputId": "3ae5b96f-86a7-45ce-d1a1-19aacd1b73af"
      },
      "execution_count": null,
      "outputs": [
        {
          "output_type": "execute_result",
          "data": {
            "text/plain": [
              "25"
            ]
          },
          "metadata": {},
          "execution_count": 53
        }
      ]
    },
    {
      "cell_type": "markdown",
      "source": [
        "# Базовые полезные операции\n"
      ],
      "metadata": {
        "id": "xIYHMLcIuVhN"
      }
    },
    {
      "cell_type": "markdown",
      "source": [
        "## 2.1 Переопределение переменных"
      ],
      "metadata": {
        "id": "iYXX3PUSueLd"
      }
    },
    {
      "cell_type": "code",
      "source": [
        "a = 10\n",
        "type(a)"
      ],
      "metadata": {
        "colab": {
          "base_uri": "https://localhost:8080/"
        },
        "id": "3J2Y2472uhd7",
        "outputId": "7ec199dc-4fce-410c-af99-7943ebcb4fab"
      },
      "execution_count": null,
      "outputs": [
        {
          "output_type": "execute_result",
          "data": {
            "text/plain": [
              "int"
            ]
          },
          "metadata": {},
          "execution_count": 54
        }
      ]
    },
    {
      "cell_type": "code",
      "source": [
        "a = float(a) + 5\n",
        "a, type(a)"
      ],
      "metadata": {
        "colab": {
          "base_uri": "https://localhost:8080/"
        },
        "id": "glhu3kzo2IcH",
        "outputId": "783a81d2-39b1-47f9-91b3-9346aaba01d7"
      },
      "execution_count": null,
      "outputs": [
        {
          "output_type": "execute_result",
          "data": {
            "text/plain": [
              "(15.0, float)"
            ]
          },
          "metadata": {},
          "execution_count": 55
        }
      ]
    },
    {
      "cell_type": "markdown",
      "source": [
        "## 2.2 Операторы присваивания"
      ],
      "metadata": {
        "id": "bw17kUGQuhh3"
      }
    },
    {
      "cell_type": "code",
      "source": [
        "a"
      ],
      "metadata": {
        "colab": {
          "base_uri": "https://localhost:8080/"
        },
        "id": "kqsoicmcukUa",
        "outputId": "1a14df4c-ca66-4229-c13e-e5b23758f2a6"
      },
      "execution_count": null,
      "outputs": [
        {
          "output_type": "execute_result",
          "data": {
            "text/plain": [
              "15.0"
            ]
          },
          "metadata": {},
          "execution_count": 56
        }
      ]
    },
    {
      "cell_type": "code",
      "source": [
        "a = a + 5\n",
        "a"
      ],
      "metadata": {
        "colab": {
          "base_uri": "https://localhost:8080/"
        },
        "id": "JVWWPxt02afd",
        "outputId": "b2b82469-baa8-43c8-9230-5052e5e75250"
      },
      "execution_count": null,
      "outputs": [
        {
          "output_type": "execute_result",
          "data": {
            "text/plain": [
              "25.0"
            ]
          },
          "metadata": {},
          "execution_count": 58
        }
      ]
    },
    {
      "cell_type": "code",
      "source": [
        "a += 5\n",
        "a"
      ],
      "metadata": {
        "colab": {
          "base_uri": "https://localhost:8080/"
        },
        "id": "zf9-jeeu2jzo",
        "outputId": "0cfe406e-d701-4210-ab0e-2ca39c84293b"
      },
      "execution_count": null,
      "outputs": [
        {
          "output_type": "execute_result",
          "data": {
            "text/plain": [
              "35.0"
            ]
          },
          "metadata": {},
          "execution_count": 60
        }
      ]
    },
    {
      "cell_type": "code",
      "source": [
        "a /= 5\n",
        "a"
      ],
      "metadata": {
        "colab": {
          "base_uri": "https://localhost:8080/"
        },
        "id": "h1Wcx-b72v72",
        "outputId": "9d5d7c83-23fd-43dc-ffbe-422f97d6200b"
      },
      "execution_count": null,
      "outputs": [
        {
          "output_type": "execute_result",
          "data": {
            "text/plain": [
              "0.27999999999999997"
            ]
          },
          "metadata": {},
          "execution_count": 64
        }
      ]
    },
    {
      "cell_type": "markdown",
      "source": [
        "## 2.3 Комментарии"
      ],
      "metadata": {
        "id": "9Ob_aGWfukbr"
      }
    },
    {
      "cell_type": "code",
      "source": [
        "# какой-то комментарий\n",
        "a = 15 # еще комментарий"
      ],
      "metadata": {
        "id": "2mG4SAltunBY"
      },
      "execution_count": null,
      "outputs": []
    },
    {
      "cell_type": "code",
      "source": [
        "a"
      ],
      "metadata": {
        "colab": {
          "base_uri": "https://localhost:8080/"
        },
        "id": "TRb83T4D3FOi",
        "outputId": "02713efd-0427-482e-8149-4f89672c049c"
      },
      "execution_count": null,
      "outputs": [
        {
          "output_type": "execute_result",
          "data": {
            "text/plain": [
              "15"
            ]
          },
          "metadata": {},
          "execution_count": 66
        }
      ]
    },
    {
      "cell_type": "code",
      "source": [
        "# TODO: Переписать на операторы присваивания\n",
        "a = a + 5"
      ],
      "metadata": {
        "id": "afu5JJSH3YSI"
      },
      "execution_count": null,
      "outputs": []
    },
    {
      "cell_type": "markdown",
      "source": [
        "## 2.4 Перенос строк"
      ],
      "metadata": {
        "id": "xAmilSrmunFs"
      }
    },
    {
      "cell_type": "code",
      "source": [
        "a + \\\n",
        "b + \\\n",
        "c"
      ],
      "metadata": {
        "colab": {
          "base_uri": "https://localhost:8080/"
        },
        "id": "o2FFAsl-urS9",
        "outputId": "b1636d14-5973-4db3-ff96-0f996662aa23"
      },
      "execution_count": null,
      "outputs": [
        {
          "output_type": "execute_result",
          "data": {
            "text/plain": [
              "118.14150000000001"
            ]
          },
          "metadata": {},
          "execution_count": 72
        }
      ]
    },
    {
      "cell_type": "code",
      "source": [
        "(a +\n",
        " b)"
      ],
      "metadata": {
        "colab": {
          "base_uri": "https://localhost:8080/"
        },
        "id": "m_p0lBD24SO5",
        "outputId": "b5169437-e131-4906-952a-9fb0e58f1281"
      },
      "execution_count": null,
      "outputs": [
        {
          "output_type": "execute_result",
          "data": {
            "text/plain": [
              "18.1415"
            ]
          },
          "metadata": {},
          "execution_count": 74
        }
      ]
    },
    {
      "cell_type": "markdown",
      "source": [
        "## 2.5 Функция `input`"
      ],
      "metadata": {
        "id": "Yb2bWBq3vFEQ"
      }
    },
    {
      "cell_type": "code",
      "source": [
        "a = input()"
      ],
      "metadata": {
        "colab": {
          "base_uri": "https://localhost:8080/"
        },
        "id": "cJaB5SaKvIsi",
        "outputId": "d51b547b-bf4a-43fa-8ed2-01c59a3090e7"
      },
      "execution_count": null,
      "outputs": [
        {
          "name": "stdout",
          "output_type": "stream",
          "text": [
            "5\n"
          ]
        }
      ]
    },
    {
      "cell_type": "code",
      "source": [
        "type(a)"
      ],
      "metadata": {
        "colab": {
          "base_uri": "https://localhost:8080/"
        },
        "id": "76k6UMsj4kA3",
        "outputId": "2fa0c953-3746-46b7-d0ce-eeaedffb670f"
      },
      "execution_count": null,
      "outputs": [
        {
          "output_type": "execute_result",
          "data": {
            "text/plain": [
              "str"
            ]
          },
          "metadata": {},
          "execution_count": 77
        }
      ]
    },
    {
      "cell_type": "markdown",
      "source": [
        "## 2.6 Функция `print`"
      ],
      "metadata": {
        "id": "SLBWI7BL5geR"
      }
    },
    {
      "cell_type": "code",
      "source": [
        "a"
      ],
      "metadata": {
        "colab": {
          "base_uri": "https://localhost:8080/",
          "height": 35
        },
        "id": "fylxYMm340Pq",
        "outputId": "8922d2a2-e577-432e-aa54-37dbb733da64"
      },
      "execution_count": null,
      "outputs": [
        {
          "output_type": "execute_result",
          "data": {
            "text/plain": [
              "'5'"
            ],
            "application/vnd.google.colaboratory.intrinsic+json": {
              "type": "string"
            }
          },
          "metadata": {},
          "execution_count": 78
        }
      ]
    },
    {
      "cell_type": "code",
      "source": [
        "print(a)"
      ],
      "metadata": {
        "colab": {
          "base_uri": "https://localhost:8080/"
        },
        "id": "DWE5UPvO42kf",
        "outputId": "51160328-f880-4a6c-83e5-d6cff470fcea"
      },
      "execution_count": null,
      "outputs": [
        {
          "output_type": "stream",
          "name": "stdout",
          "text": [
            "5\n"
          ]
        }
      ]
    }
  ]
}