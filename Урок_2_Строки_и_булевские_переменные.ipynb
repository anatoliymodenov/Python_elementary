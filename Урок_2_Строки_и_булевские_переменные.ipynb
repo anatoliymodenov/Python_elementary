{
  "nbformat": 4,
  "nbformat_minor": 0,
  "metadata": {
    "colab": {
      "provenance": [],
      "toc_visible": true
    },
    "kernelspec": {
      "name": "python3",
      "display_name": "Python 3"
    },
    "language_info": {
      "name": "python"
    }
  },
  "cells": [
    {
      "cell_type": "markdown",
      "source": [
        "# Строки"
      ],
      "metadata": {
        "id": "p3leiGbL9NR7"
      }
    },
    {
      "cell_type": "markdown",
      "source": [
        "## 1.1 Создание строки"
      ],
      "metadata": {
        "id": "YZCZovbQ8gze"
      }
    },
    {
      "cell_type": "code",
      "source": [
        "a = 'my string'"
      ],
      "metadata": {
        "id": "Iv_TeK158qbU"
      },
      "execution_count": null,
      "outputs": []
    },
    {
      "cell_type": "code",
      "source": [
        "a"
      ],
      "metadata": {
        "colab": {
          "base_uri": "https://localhost:8080/",
          "height": 35
        },
        "id": "TImB0dfgCU-j",
        "outputId": "d9e98c60-129a-4841-e52c-729a2a9d1998"
      },
      "execution_count": null,
      "outputs": [
        {
          "output_type": "execute_result",
          "data": {
            "text/plain": [
              "'my string'"
            ],
            "application/vnd.google.colaboratory.intrinsic+json": {
              "type": "string"
            }
          },
          "metadata": {},
          "execution_count": 13
        }
      ]
    },
    {
      "cell_type": "code",
      "source": [
        "b = \"my string\""
      ],
      "metadata": {
        "id": "-F8bFOcmCYtd"
      },
      "execution_count": null,
      "outputs": []
    },
    {
      "cell_type": "markdown",
      "source": [
        "## 1.2 Арифметические операторы для строк"
      ],
      "metadata": {
        "id": "N7Ry8Zxh8qkf"
      }
    },
    {
      "cell_type": "code",
      "source": [
        "a + ' ' + b"
      ],
      "metadata": {
        "colab": {
          "base_uri": "https://localhost:8080/",
          "height": 35
        },
        "id": "En_1pYVM8xUy",
        "outputId": "4b9b17f8-b933-4367-8766-ccb3b2d6ded2"
      },
      "execution_count": null,
      "outputs": [
        {
          "output_type": "execute_result",
          "data": {
            "text/plain": [
              "'my string my string'"
            ],
            "application/vnd.google.colaboratory.intrinsic+json": {
              "type": "string"
            }
          },
          "metadata": {},
          "execution_count": 14
        }
      ]
    },
    {
      "cell_type": "code",
      "source": [
        "(a + ' ') * 5"
      ],
      "metadata": {
        "colab": {
          "base_uri": "https://localhost:8080/",
          "height": 35
        },
        "id": "GMbjjulPCxQY",
        "outputId": "f5b687be-6f50-40c3-a7e4-e02191d2282b"
      },
      "execution_count": null,
      "outputs": [
        {
          "output_type": "execute_result",
          "data": {
            "text/plain": [
              "'my string my string my string my string my string '"
            ],
            "application/vnd.google.colaboratory.intrinsic+json": {
              "type": "string"
            }
          },
          "metadata": {},
          "execution_count": 16
        }
      ]
    },
    {
      "cell_type": "markdown",
      "source": [
        "Это работает не всегда. Например, нельзя умножить на `float` или сложить с `int`."
      ],
      "metadata": {
        "id": "3zAtoDlV8xdU"
      }
    },
    {
      "cell_type": "code",
      "source": [
        "a * 5.5"
      ],
      "metadata": {
        "colab": {
          "base_uri": "https://localhost:8080/",
          "height": 165
        },
        "id": "LVa0-xW8897w",
        "outputId": "6b1cc534-c8bf-4c01-9cc1-baae8a60b6da"
      },
      "execution_count": null,
      "outputs": [
        {
          "output_type": "error",
          "ename": "TypeError",
          "evalue": "ignored",
          "traceback": [
            "\u001b[0;31m---------------------------------------------------------------------------\u001b[0m",
            "\u001b[0;31mTypeError\u001b[0m                                 Traceback (most recent call last)",
            "\u001b[0;32m<ipython-input-17-35d56bef25c4>\u001b[0m in \u001b[0;36m<module>\u001b[0;34m\u001b[0m\n\u001b[0;32m----> 1\u001b[0;31m \u001b[0ma\u001b[0m \u001b[0;34m*\u001b[0m \u001b[0;36m5.5\u001b[0m\u001b[0;34m\u001b[0m\u001b[0;34m\u001b[0m\u001b[0m\n\u001b[0m",
            "\u001b[0;31mTypeError\u001b[0m: can't multiply sequence by non-int of type 'float'"
          ]
        }
      ]
    },
    {
      "cell_type": "code",
      "source": [
        "int('10')"
      ],
      "metadata": {
        "colab": {
          "base_uri": "https://localhost:8080/"
        },
        "id": "dITyTsTuDN-4",
        "outputId": "990ec3c7-58fc-4505-bec6-a7b999bc74ec"
      },
      "execution_count": null,
      "outputs": [
        {
          "output_type": "execute_result",
          "data": {
            "text/plain": [
              "10"
            ]
          },
          "metadata": {},
          "execution_count": 19
        }
      ]
    },
    {
      "cell_type": "code",
      "source": [
        "a + str(10)"
      ],
      "metadata": {
        "colab": {
          "base_uri": "https://localhost:8080/",
          "height": 35
        },
        "id": "v9ZrWvTiDFTo",
        "outputId": "00fa2ec3-9d57-42f8-848a-cfb222e2d193"
      },
      "execution_count": null,
      "outputs": [
        {
          "output_type": "execute_result",
          "data": {
            "text/plain": [
              "'my string10'"
            ],
            "application/vnd.google.colaboratory.intrinsic+json": {
              "type": "string"
            }
          },
          "metadata": {},
          "execution_count": 20
        }
      ]
    },
    {
      "cell_type": "markdown",
      "source": [
        "# Булевские переменные"
      ],
      "metadata": {
        "id": "Vi-ULJ2-8-Cw"
      }
    },
    {
      "cell_type": "markdown",
      "source": [
        "## 2.1 Создание логических переменных"
      ],
      "metadata": {
        "id": "mtJAPZrn9Qk8"
      }
    },
    {
      "cell_type": "code",
      "source": [
        "boo1 = True # 1\n",
        "boo2 = False # 0"
      ],
      "metadata": {
        "id": "H4TAmYfv9ibl"
      },
      "execution_count": null,
      "outputs": []
    },
    {
      "cell_type": "code",
      "source": [
        "boo1, boo2"
      ],
      "metadata": {
        "colab": {
          "base_uri": "https://localhost:8080/"
        },
        "id": "2UWPmQL6Df7x",
        "outputId": "85f300b3-2366-481a-da7f-30ab249fe7dc"
      },
      "execution_count": null,
      "outputs": [
        {
          "output_type": "execute_result",
          "data": {
            "text/plain": [
              "(True, False)"
            ]
          },
          "metadata": {},
          "execution_count": 22
        }
      ]
    },
    {
      "cell_type": "code",
      "source": [
        "boo1 * 5, boo2 * 5"
      ],
      "metadata": {
        "colab": {
          "base_uri": "https://localhost:8080/"
        },
        "id": "JUxbgj-RDvI4",
        "outputId": "b44ad12a-fb48-4681-ea06-d2405de705df"
      },
      "execution_count": null,
      "outputs": [
        {
          "output_type": "execute_result",
          "data": {
            "text/plain": [
              "(5, 0)"
            ]
          },
          "metadata": {},
          "execution_count": 24
        }
      ]
    },
    {
      "cell_type": "markdown",
      "source": [
        "## 2.2 Операции над логическими переменными - `not`, `&`, `|`"
      ],
      "metadata": {
        "id": "TOJZ8x849ihl"
      }
    },
    {
      "cell_type": "code",
      "source": [
        "not boo1, not boo2"
      ],
      "metadata": {
        "colab": {
          "base_uri": "https://localhost:8080/"
        },
        "id": "REQMcI-E9nn0",
        "outputId": "5b45d276-2440-4fe6-83bd-73eb79a31952"
      },
      "execution_count": null,
      "outputs": [
        {
          "output_type": "execute_result",
          "data": {
            "text/plain": [
              "(False, True)"
            ]
          },
          "metadata": {},
          "execution_count": 26
        }
      ]
    },
    {
      "cell_type": "code",
      "source": [
        "boo1 & boo2 & True & True"
      ],
      "metadata": {
        "colab": {
          "base_uri": "https://localhost:8080/"
        },
        "id": "Fm_qyon3EVmY",
        "outputId": "0b5781e1-90fa-4d5d-d43e-cef55bafc24a"
      },
      "execution_count": null,
      "outputs": [
        {
          "output_type": "execute_result",
          "data": {
            "text/plain": [
              "True"
            ]
          },
          "metadata": {},
          "execution_count": 30
        }
      ]
    },
    {
      "cell_type": "code",
      "source": [
        "boo1 | boo2 | False | True"
      ],
      "metadata": {
        "colab": {
          "base_uri": "https://localhost:8080/"
        },
        "id": "YDj9Qyh9ElRJ",
        "outputId": "bcb1ba91-206b-4d62-9001-fa940f065a1d"
      },
      "execution_count": null,
      "outputs": [
        {
          "output_type": "execute_result",
          "data": {
            "text/plain": [
              "True"
            ]
          },
          "metadata": {},
          "execution_count": 31
        }
      ]
    },
    {
      "cell_type": "markdown",
      "source": [
        "## 2.3 Порядок операций имеет значение"
      ],
      "metadata": {
        "id": "qt8Q3_Ts96ZT"
      }
    },
    {
      "cell_type": "code",
      "source": [
        "boo1 and (boo2 | boo1 | boo2)"
      ],
      "metadata": {
        "colab": {
          "base_uri": "https://localhost:8080/"
        },
        "id": "StmDgMR-99Ns",
        "outputId": "39501bd2-e8c4-4fda-d41c-61f860f28fe0"
      },
      "execution_count": null,
      "outputs": [
        {
          "output_type": "execute_result",
          "data": {
            "text/plain": [
              "True"
            ]
          },
          "metadata": {},
          "execution_count": 35
        }
      ]
    },
    {
      "cell_type": "code",
      "source": [
        "(boo1 | boo2) & boo2"
      ],
      "metadata": {
        "colab": {
          "base_uri": "https://localhost:8080/"
        },
        "id": "enkyV5y6GFgh",
        "outputId": "cfbd93d2-d99f-46e7-b15a-7c984be25c65"
      },
      "execution_count": null,
      "outputs": [
        {
          "output_type": "execute_result",
          "data": {
            "text/plain": [
              "False"
            ]
          },
          "metadata": {},
          "execution_count": 48
        }
      ]
    },
    {
      "cell_type": "markdown",
      "source": [
        "## 2.4 Зачем нужны булевские переменные?"
      ],
      "metadata": {
        "id": "_0Zucw2C9ztu"
      }
    },
    {
      "cell_type": "markdown",
      "source": [
        "`<, >, <=, >=, ==, !=, is`"
      ],
      "metadata": {
        "id": "TEBrjWykGkpp"
      }
    },
    {
      "cell_type": "code",
      "source": [
        "a = 10\n",
        "b = 15\n",
        "c = -3"
      ],
      "metadata": {
        "id": "wilm1nxr92lI"
      },
      "execution_count": null,
      "outputs": []
    },
    {
      "cell_type": "code",
      "source": [
        "a < b"
      ],
      "metadata": {
        "colab": {
          "base_uri": "https://localhost:8080/"
        },
        "id": "Dv9me2QYG8MC",
        "outputId": "c77c36e8-0e22-4d1a-9847-54405e09f021"
      },
      "execution_count": null,
      "outputs": [
        {
          "output_type": "execute_result",
          "data": {
            "text/plain": [
              "True"
            ]
          },
          "metadata": {},
          "execution_count": 50
        }
      ]
    },
    {
      "cell_type": "code",
      "source": [
        "a + 5 == b"
      ],
      "metadata": {
        "colab": {
          "base_uri": "https://localhost:8080/"
        },
        "id": "e_mOAAPBG_xL",
        "outputId": "eb0e5f44-a084-40e9-c7ce-2f7987973429"
      },
      "execution_count": null,
      "outputs": [
        {
          "output_type": "execute_result",
          "data": {
            "text/plain": [
              "True"
            ]
          },
          "metadata": {},
          "execution_count": 52
        }
      ]
    },
    {
      "cell_type": "code",
      "source": [
        "a != b"
      ],
      "metadata": {
        "colab": {
          "base_uri": "https://localhost:8080/"
        },
        "id": "A64QWHcjHEF-",
        "outputId": "73562c32-3342-409d-eb55-1b32fe168de0"
      },
      "execution_count": null,
      "outputs": [
        {
          "output_type": "execute_result",
          "data": {
            "text/plain": [
              "True"
            ]
          },
          "metadata": {},
          "execution_count": 53
        }
      ]
    },
    {
      "cell_type": "code",
      "source": [
        "a == 10"
      ],
      "metadata": {
        "colab": {
          "base_uri": "https://localhost:8080/"
        },
        "id": "gIq_RQOGHQvl",
        "outputId": "db2b0349-0c3b-445d-8f27-0e7ad8317fa5"
      },
      "execution_count": null,
      "outputs": [
        {
          "output_type": "execute_result",
          "data": {
            "text/plain": [
              "True"
            ]
          },
          "metadata": {},
          "execution_count": 55
        }
      ]
    },
    {
      "cell_type": "code",
      "source": [
        "b = 10"
      ],
      "metadata": {
        "id": "8LjbQ8RLHdfN"
      },
      "execution_count": null,
      "outputs": []
    },
    {
      "cell_type": "code",
      "source": [
        "a is b"
      ],
      "metadata": {
        "colab": {
          "base_uri": "https://localhost:8080/"
        },
        "id": "X9-QwEQ0HQ2L",
        "outputId": "b129e85d-b556-4ff0-afc7-9e5765edd64d"
      },
      "execution_count": null,
      "outputs": [
        {
          "output_type": "execute_result",
          "data": {
            "text/plain": [
              "True"
            ]
          },
          "metadata": {},
          "execution_count": 58
        }
      ]
    },
    {
      "cell_type": "code",
      "source": [
        "a = 10\n",
        "b = 10\n",
        "\n",
        "a == b, a is b"
      ],
      "metadata": {
        "colab": {
          "base_uri": "https://localhost:8080/"
        },
        "id": "Kh6jetPvH1WE",
        "outputId": "d0581645-6445-4cc7-c4a9-cf5d2d03c6bd"
      },
      "execution_count": null,
      "outputs": [
        {
          "output_type": "execute_result",
          "data": {
            "text/plain": [
              "(True, True)"
            ]
          },
          "metadata": {},
          "execution_count": 59
        }
      ]
    },
    {
      "cell_type": "code",
      "source": [
        "a = 1000\n",
        "b = 1000\n",
        "\n",
        "a == b, a is b"
      ],
      "metadata": {
        "colab": {
          "base_uri": "https://localhost:8080/"
        },
        "id": "vaiah7zJH9XH",
        "outputId": "fd745adb-0884-4c9d-e89a-bc6c8651c267"
      },
      "execution_count": null,
      "outputs": [
        {
          "output_type": "execute_result",
          "data": {
            "text/plain": [
              "(True, False)"
            ]
          },
          "metadata": {},
          "execution_count": 60
        }
      ]
    },
    {
      "cell_type": "markdown",
      "source": [
        "# Строковые функции"
      ],
      "metadata": {
        "id": "X_YQp1T1_fjc"
      }
    },
    {
      "cell_type": "markdown",
      "source": [
        "Найдем длину строки"
      ],
      "metadata": {
        "id": "UHGEClX7_iIy"
      }
    },
    {
      "cell_type": "code",
      "source": [
        "a = 'my string'"
      ],
      "metadata": {
        "id": "4LHLs7zz_uOR"
      },
      "execution_count": null,
      "outputs": []
    },
    {
      "cell_type": "code",
      "source": [
        "len(a)"
      ],
      "metadata": {
        "colab": {
          "base_uri": "https://localhost:8080/"
        },
        "id": "W_3LwWEqIiFj",
        "outputId": "5d17293f-01fb-46e4-9e69-04db292c1518"
      },
      "execution_count": null,
      "outputs": [
        {
          "output_type": "execute_result",
          "data": {
            "text/plain": [
              "9"
            ]
          },
          "metadata": {},
          "execution_count": 62
        }
      ]
    },
    {
      "cell_type": "markdown",
      "source": [
        "А если строка содержит кавычки?"
      ],
      "metadata": {
        "id": "cbsdPDKw_uX3"
      }
    },
    {
      "cell_type": "code",
      "source": [
        "a = \"А он сказал: 'Привет!'\"\n",
        "print(a)\n",
        "a = \"А он сказал: \\\"Привет!\\\"\"\n",
        "print(a)"
      ],
      "metadata": {
        "colab": {
          "base_uri": "https://localhost:8080/"
        },
        "id": "L7JFQG7m_wDV",
        "outputId": "c6691031-3775-4d85-9187-4c761a273e90"
      },
      "execution_count": null,
      "outputs": [
        {
          "output_type": "stream",
          "name": "stdout",
          "text": [
            "А он сказал: 'Привет!'\n",
            "А он сказал: \"Привет!\"\n"
          ]
        }
      ]
    },
    {
      "cell_type": "code",
      "source": [
        "a = \"\"\"А он сказал: \"Привет!\"\n",
        "А она ответила: \"Прощай\"\n",
        "\"\"\"\n",
        "\n",
        "b = \"\"\"\n",
        "А он сказал: \"Привет!\"\n",
        "А она ответила: \"Прощай\"\n",
        "\"\"\"\n",
        "\n",
        "c = \"\"\"\n",
        "А он сказал: \"Привет!\" \\\n",
        "А она ответила: \"Прощай\"\n",
        "\"\"\"\n",
        "\n",
        "print(a, b, c)"
      ],
      "metadata": {
        "colab": {
          "base_uri": "https://localhost:8080/"
        },
        "id": "2ye3pxSGJHAD",
        "outputId": "e992b8db-2c51-421d-ace8-22f9823e3e34"
      },
      "execution_count": null,
      "outputs": [
        {
          "output_type": "stream",
          "name": "stdout",
          "text": [
            "А он сказал: \"Привет!\"\n",
            "А она ответила: \"Прощай\"\n",
            " \n",
            "А он сказал: \"Привет!\"\n",
            "А она ответила: \"Прощай\"\n",
            " \n",
            "А он сказал: \"Привет!\" А она ответила: \"Прощай\"\n",
            "\n"
          ]
        }
      ]
    },
    {
      "cell_type": "markdown",
      "source": [
        "Как работают спецсимволы?"
      ],
      "metadata": {
        "id": "FY56uxDH_wIx"
      }
    },
    {
      "cell_type": "code",
      "source": [
        "print(\"Это первая строка\\nЭто вторая строка\\n Это третья строка \\t но тут еще табуляция\")"
      ],
      "metadata": {
        "colab": {
          "base_uri": "https://localhost:8080/"
        },
        "id": "v1B316zf_6vH",
        "outputId": "0bde27f6-d2a7-427b-c885-ee1e4983ce39"
      },
      "execution_count": null,
      "outputs": [
        {
          "output_type": "stream",
          "name": "stdout",
          "text": [
            "Это первая строка\n",
            "Это вторая строка\n",
            " Это третья строка \t но тут еще табуляция\n"
          ]
        }
      ]
    },
    {
      "cell_type": "code",
      "source": [
        "print(\"Этот символ - знак переноса строки: \\\\n. Круто!\")\n",
        "# raw string\n",
        "print(r\"Этот символ - знак переноса строки: \\n. Круто!\")"
      ],
      "metadata": {
        "colab": {
          "base_uri": "https://localhost:8080/"
        },
        "id": "_SM3LRUxKMDv",
        "outputId": "d931a354-62de-4c11-bd62-03103cea87f8"
      },
      "execution_count": null,
      "outputs": [
        {
          "output_type": "stream",
          "name": "stdout",
          "text": [
            "Этот символ - знак переноса строки: \\n. Круто!\n",
            "Этот символ - знак переноса строки: \\n. Круто!\n"
          ]
        }
      ]
    },
    {
      "cell_type": "markdown",
      "source": [
        "Давайте поработаем с функцией `print`"
      ],
      "metadata": {
        "id": "JR1qwRKG_6zv"
      }
    },
    {
      "cell_type": "code",
      "source": [
        "print(\"Это\", \"несколько\", \"слов\", sep=\"\\t\", end=\"!\")"
      ],
      "metadata": {
        "colab": {
          "base_uri": "https://localhost:8080/"
        },
        "id": "jF9lI8g4AiOE",
        "outputId": "f48d3467-2e90-47ba-f964-1379057ce799"
      },
      "execution_count": null,
      "outputs": [
        {
          "output_type": "stream",
          "name": "stdout",
          "text": [
            "Это\tнесколько\tслов!"
          ]
        }
      ]
    },
    {
      "cell_type": "markdown",
      "source": [
        "Форматирование строк"
      ],
      "metadata": {
        "id": "0kwBjadvAiVP"
      }
    },
    {
      "cell_type": "code",
      "source": [
        "greeting = \"\"\"\n",
        "Привет, Дорогой друг!\n",
        "\n",
        "Вы совершили покупку по тарифу Персональный! Он будет доступен вам в течение 365 дней.\n",
        "\"\"\"\n",
        "\n",
        "print(greeting)"
      ],
      "metadata": {
        "colab": {
          "base_uri": "https://localhost:8080/"
        },
        "id": "7DohZpMyAqe-",
        "outputId": "659ed996-84e0-45b9-dda6-fafa9e81b048"
      },
      "execution_count": null,
      "outputs": [
        {
          "output_type": "stream",
          "name": "stdout",
          "text": [
            "\n",
            "Привет, Дорогой друг!\n",
            "\n",
            "Вы совершили покупку по тарифу Персональный! Он будет доступен вам в течение 365 дней.\n",
            "\n"
          ]
        }
      ]
    },
    {
      "cell_type": "code",
      "source": [
        "name = \"Андрон\"\n",
        "bundle = \"Базовый\"\n",
        "days = 365"
      ],
      "metadata": {
        "id": "-G2hSfgbLqGj"
      },
      "execution_count": null,
      "outputs": []
    },
    {
      "cell_type": "code",
      "source": [
        "print(\"\"\"\n",
        "Привет, {0}!\n",
        "\n",
        "Вы совершили покупку по тарифу {2}! Он будет доступен вам в течение {1} дней.\n",
        "\"\"\".format(name, days, bundle))"
      ],
      "metadata": {
        "colab": {
          "base_uri": "https://localhost:8080/"
        },
        "id": "-OlBIMoiMYpp",
        "outputId": "961c9217-958d-46f1-9c8e-bcc374d7cf38"
      },
      "execution_count": null,
      "outputs": [
        {
          "output_type": "stream",
          "name": "stdout",
          "text": [
            "\n",
            "Привет, Андрон!\n",
            "\n",
            "Вы совершили покупку по тарифу Базовый! Он будет доступен вам в течение 365 дней.\n",
            "\n"
          ]
        }
      ]
    },
    {
      "cell_type": "code",
      "source": [
        "# f-строки\n",
        "print(f\"\"\"\n",
        "Привет, {name}!\n",
        "\n",
        "Вы совершили покупку по тарифу {bundle}! Он будет доступен вам в течение {days} дней.\n",
        "\"\"\")"
      ],
      "metadata": {
        "colab": {
          "base_uri": "https://localhost:8080/"
        },
        "id": "ZBiAyKSuNCKd",
        "outputId": "5b77955c-4051-401a-ce5c-7f5b7a0813f7"
      },
      "execution_count": null,
      "outputs": [
        {
          "output_type": "stream",
          "name": "stdout",
          "text": [
            "\n",
            "Привет, Андрон!\n",
            "\n",
            "Вы совершили покупку по тарифу Базовый! Он будет доступен вам в течение 365 дней.\n",
            "\n"
          ]
        }
      ]
    },
    {
      "cell_type": "code",
      "source": [
        "print(\"Это число float: {0:.2f}\".format(3.1514526496846916516))"
      ],
      "metadata": {
        "colab": {
          "base_uri": "https://localhost:8080/"
        },
        "id": "nvWIr4V-NYlY",
        "outputId": "eb7843fa-dd51-41de-d75b-4a2b8fab4838"
      },
      "execution_count": null,
      "outputs": [
        {
          "output_type": "stream",
          "name": "stdout",
          "text": [
            "Это число float: 3.15\n"
          ]
        }
      ]
    },
    {
      "cell_type": "markdown",
      "source": [
        "Очистка строк"
      ],
      "metadata": {
        "id": "o3Ih_7TUAqk-"
      }
    },
    {
      "cell_type": "code",
      "source": [
        "a = '   abc   x'\n",
        "a, a.strip(), a.strip(' x')"
      ],
      "metadata": {
        "colab": {
          "base_uri": "https://localhost:8080/"
        },
        "id": "KAmksPAaA9og",
        "outputId": "63bcb591-0c73-41df-bc90-2212bf7bc12c"
      },
      "execution_count": null,
      "outputs": [
        {
          "output_type": "execute_result",
          "data": {
            "text/plain": [
              "('   abc   x', 'abc   x', 'abc')"
            ]
          },
          "metadata": {},
          "execution_count": 94
        }
      ]
    },
    {
      "cell_type": "markdown",
      "source": [
        "Разобьем строку по разделителю"
      ],
      "metadata": {
        "id": "OHZtYON_BE93"
      }
    },
    {
      "cell_type": "code",
      "source": [
        "keywords = \"Python, анализ данных, программирование, я люблю код, ура!\"\n",
        "keywords.split(\", \")"
      ],
      "metadata": {
        "colab": {
          "base_uri": "https://localhost:8080/"
        },
        "id": "MaGskOrIBHYq",
        "outputId": "18dde731-0913-4aae-cd27-7c5da3a0a89a"
      },
      "execution_count": null,
      "outputs": [
        {
          "output_type": "execute_result",
          "data": {
            "text/plain": [
              "['Python', 'анализ данных', 'программирование', 'я люблю код', 'ура!']"
            ]
          },
          "metadata": {},
          "execution_count": 95
        }
      ]
    },
    {
      "cell_type": "code",
      "source": [
        "chapter = \"\"\"Первое предложение. Второе предложение.\n",
        "Перенос строки. опять предложение\n",
        "Опять перенос. Опять предложение.\"\"\"\n",
        "\n",
        "chapter.split(\"\\n\")"
      ],
      "metadata": {
        "colab": {
          "base_uri": "https://localhost:8080/"
        },
        "id": "0eWFuaorOsr5",
        "outputId": "fbe61108-9770-40de-b59f-63f5ab45c62a"
      },
      "execution_count": null,
      "outputs": [
        {
          "output_type": "execute_result",
          "data": {
            "text/plain": [
              "['Первое предложение. Второе предложение.',\n",
              " 'Перенос строки. опять предложение',\n",
              " 'Опять перенос. Опять предложение.']"
            ]
          },
          "metadata": {},
          "execution_count": 99
        }
      ]
    },
    {
      "cell_type": "code",
      "source": [
        "chapter"
      ],
      "metadata": {
        "colab": {
          "base_uri": "https://localhost:8080/",
          "height": 35
        },
        "id": "_Pb_I4cHO9A-",
        "outputId": "dee5acf7-0c40-4f01-810d-6767adb6f716"
      },
      "execution_count": null,
      "outputs": [
        {
          "output_type": "execute_result",
          "data": {
            "text/plain": [
              "'\\nПервое предложение. Второе предложение.\\n\\nПеренос строки. опять предложение\\n\\nОпять перенос. Опять предложение.\\n'"
            ],
            "application/vnd.google.colaboratory.intrinsic+json": {
              "type": "string"
            }
          },
          "metadata": {},
          "execution_count": 97
        }
      ]
    },
    {
      "cell_type": "markdown",
      "source": [
        "Объединим строку обратно"
      ],
      "metadata": {
        "id": "xpM_TYnCBHdx"
      }
    },
    {
      "cell_type": "code",
      "source": [
        "arr = ['Меня зовут Андрон', 'Мы с вами изучаем Python', 'Надеюсь, вам интересно']\n",
        "\n",
        "print('.\\n'.join(arr))"
      ],
      "metadata": {
        "colab": {
          "base_uri": "https://localhost:8080/"
        },
        "id": "DiJxDj3VBLU0",
        "outputId": "ce57ed26-0b6b-4038-eea5-9a572e94da74"
      },
      "execution_count": null,
      "outputs": [
        {
          "output_type": "stream",
          "name": "stdout",
          "text": [
            "Меня зовут Андрон.\n",
            "Мы с вами изучаем Python.\n",
            "Надеюсь, вам интересно\n"
          ]
        }
      ]
    },
    {
      "cell_type": "code",
      "source": [
        "print('Меня зовут Андрон' + '.\\n' + 'Мы с вами изучаем Python' + '.\\n' + 'Надеюсь, вам интересно')"
      ],
      "metadata": {
        "colab": {
          "base_uri": "https://localhost:8080/"
        },
        "id": "SprEPEVxPlHE",
        "outputId": "b383079d-90eb-46aa-d4b1-0bc80d210cd1"
      },
      "execution_count": null,
      "outputs": [
        {
          "output_type": "stream",
          "name": "stdout",
          "text": [
            "Меня зовут Андрон.\n",
            "Мы с вами изучаем Python.\n",
            "Надеюсь, вам интересно\n"
          ]
        }
      ]
    },
    {
      "cell_type": "markdown",
      "source": [
        "Изменим регистр букв"
      ],
      "metadata": {
        "id": "S4TMlMk_BLaC"
      }
    },
    {
      "cell_type": "code",
      "source": [
        "s = 'СТРока С ОЧень разныМ РЕГистром букв.'\n",
        "\n",
        "s.capitalize(), s.upper(), s.lower()"
      ],
      "metadata": {
        "colab": {
          "base_uri": "https://localhost:8080/"
        },
        "id": "Rth401r3BOpy",
        "outputId": "537d6195-bd5f-4ee4-f205-d548f697b810"
      },
      "execution_count": null,
      "outputs": [
        {
          "output_type": "execute_result",
          "data": {
            "text/plain": [
              "('Строка с очень разным регистром букв.',\n",
              " 'СТРОКА С ОЧЕНЬ РАЗНЫМ РЕГИСТРОМ БУКВ.',\n",
              " 'строка с очень разным регистром букв.')"
            ]
          },
          "metadata": {},
          "execution_count": 107
        }
      ]
    },
    {
      "cell_type": "code",
      "source": [
        "s.lower().islower(), s.upper().isupper()"
      ],
      "metadata": {
        "colab": {
          "base_uri": "https://localhost:8080/"
        },
        "id": "pezUr7OkQb9o",
        "outputId": "927d0131-1c1a-425b-af70-b51864b1a212"
      },
      "execution_count": null,
      "outputs": [
        {
          "output_type": "execute_result",
          "data": {
            "text/plain": [
              "(True, True)"
            ]
          },
          "metadata": {},
          "execution_count": 112
        }
      ]
    },
    {
      "cell_type": "markdown",
      "source": [
        "Проверим наличие символов в начале и в конце строки"
      ],
      "metadata": {
        "id": "Hac77QPhBSHS"
      }
    },
    {
      "cell_type": "code",
      "source": [
        "s1 = \"Обычное предложение.\"\n",
        "s2 = \"Предложение с  восклицанием!\"\n",
        "\n",
        "s1.endswith(\"!\"), s2.endswith(\"!\")"
      ],
      "metadata": {
        "colab": {
          "base_uri": "https://localhost:8080/"
        },
        "id": "l3jvgj6wBUOj",
        "outputId": "d8f0d426-a9f8-4f62-99e5-c6f3f32e0226"
      },
      "execution_count": null,
      "outputs": [
        {
          "output_type": "execute_result",
          "data": {
            "text/plain": [
              "(False, True)"
            ]
          },
          "metadata": {},
          "execution_count": 113
        }
      ]
    },
    {
      "cell_type": "code",
      "source": [
        "s1.startswith(\"Обычное\"), s2.startswith(\"Обычное\")"
      ],
      "metadata": {
        "colab": {
          "base_uri": "https://localhost:8080/"
        },
        "id": "GjOySWmGQ899",
        "outputId": "00d4360f-752d-4a5c-ce4f-0aa14f64afa6"
      },
      "execution_count": null,
      "outputs": [
        {
          "output_type": "execute_result",
          "data": {
            "text/plain": [
              "(True, False)"
            ]
          },
          "metadata": {},
          "execution_count": 114
        }
      ]
    },
    {
      "cell_type": "markdown",
      "source": [
        "Проверим наличие подстроки"
      ],
      "metadata": {
        "id": "8yTyUPtvBUVd"
      }
    },
    {
      "cell_type": "code",
      "source": [
        "s = \"Длинная строка с некоторым текстом внутри\"\n",
        "\n",
        "s.find(\"некоторым\"), s.find('abc')"
      ],
      "metadata": {
        "colab": {
          "base_uri": "https://localhost:8080/"
        },
        "id": "qzSN4YDcBXf0",
        "outputId": "5d3ffe65-4705-49dc-b731-3c6e04a7f39d"
      },
      "execution_count": null,
      "outputs": [
        {
          "output_type": "execute_result",
          "data": {
            "text/plain": [
              "(17, -1)"
            ]
          },
          "metadata": {},
          "execution_count": 116
        }
      ]
    },
    {
      "cell_type": "code",
      "source": [
        "\"некоторым\" in s"
      ],
      "metadata": {
        "colab": {
          "base_uri": "https://localhost:8080/"
        },
        "id": "j6DK7OrRRWEd",
        "outputId": "b6ad5b4a-a38d-4978-f27c-492d172d1456"
      },
      "execution_count": null,
      "outputs": [
        {
          "output_type": "execute_result",
          "data": {
            "text/plain": [
              "True"
            ]
          },
          "metadata": {},
          "execution_count": 117
        }
      ]
    },
    {
      "cell_type": "markdown",
      "source": [
        "Выполним замену подстроки"
      ],
      "metadata": {
        "id": "X61Bu_xgBXoA"
      }
    },
    {
      "cell_type": "code",
      "source": [
        "s = \"Меня зовут Андрон, Мы с вами изучаем питон, Надеюсь вам нравится\"\n",
        "\n",
        "s = s.replace(',', '.')"
      ],
      "metadata": {
        "id": "PXXKf-1oBY6h"
      },
      "execution_count": null,
      "outputs": []
    },
    {
      "cell_type": "code",
      "source": [
        "s.replace(\"Меня зовут Андрон. \", \"\")"
      ],
      "metadata": {
        "colab": {
          "base_uri": "https://localhost:8080/",
          "height": 35
        },
        "id": "CpYpcBiTRuFI",
        "outputId": "249188c4-e65b-4e8c-d7d1-86394ad5e010"
      },
      "execution_count": null,
      "outputs": [
        {
          "output_type": "execute_result",
          "data": {
            "text/plain": [
              "'Мы с вами изучаем питон. Надеюсь вам нравится'"
            ],
            "application/vnd.google.colaboratory.intrinsic+json": {
              "type": "string"
            }
          },
          "metadata": {},
          "execution_count": 121
        }
      ]
    },
    {
      "cell_type": "markdown",
      "source": [
        "Индексация строк"
      ],
      "metadata": {
        "id": "hB9mLYAiBa5q"
      }
    },
    {
      "cell_type": "code",
      "source": [
        "s = \"Длинная строка с некоторым текстом внутри\"\n",
        "\n",
        "s[17:20]"
      ],
      "metadata": {
        "colab": {
          "base_uri": "https://localhost:8080/",
          "height": 35
        },
        "id": "wENRaItxBcUZ",
        "outputId": "79cbf40b-3642-4dcd-ac71-e4f1b066b862"
      },
      "execution_count": null,
      "outputs": [
        {
          "output_type": "execute_result",
          "data": {
            "text/plain": [
              "'нек'"
            ],
            "application/vnd.google.colaboratory.intrinsic+json": {
              "type": "string"
            }
          },
          "metadata": {},
          "execution_count": 125
        }
      ]
    },
    {
      "cell_type": "code",
      "source": [
        "promocode = '544545foru5066561551'\n",
        "promocode[6:12]"
      ],
      "metadata": {
        "colab": {
          "base_uri": "https://localhost:8080/",
          "height": 35
        },
        "id": "EInUZpN-SJVG",
        "outputId": "3574be65-7090-45c8-8eef-5d1c6533ba10"
      },
      "execution_count": null,
      "outputs": [
        {
          "output_type": "execute_result",
          "data": {
            "text/plain": [
              "'foru50'"
            ],
            "application/vnd.google.colaboratory.intrinsic+json": {
              "type": "string"
            }
          },
          "metadata": {},
          "execution_count": 127
        }
      ]
    }
  ]
}